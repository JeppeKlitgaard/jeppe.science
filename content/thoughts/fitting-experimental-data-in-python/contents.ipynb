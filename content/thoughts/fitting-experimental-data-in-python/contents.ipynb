{
 "cells": [
  {
   "cell_type": "markdown",
   "metadata": {
    "lines_to_next_cell": 0
   },
   "source": [
    "## Background\n",
    "\n",
    "As part of my undergraduate studies I recently had to write a formal report on the exciting\n",
    "topic of mechanical resonance after having collected data from the transient and\n",
    "steady state responses of a oscillating torsional pendulum.\n",
    "\n",
    "Rather problematically, we have yet to be taught any meaningful data processing outside of basic Excel regression,\n",
    "which proved a bit of a hindrance in establishing the quality factor of the oscillator.\n",
    "\n",
    "![Figure 1](./graph1.png \n",
    "\"Figure 1: Graph of amplitude and angular frequency\")\n",
    "\n",
    "Supposedly this could be done by taking the ratio of the amplitude at resonance and the amplitude\n",
    "for an angular frequency of 0 radians per second. The amplitude at resonance would then have to be\n",
    "guestimated from the graph in Figure 1.\n",
    "That’s hardly very scientific and in my case introduced such large errors that\n",
    "the estimated quality factor was effectively useless with an uncertainty north of 20%.\n",
    "\n",
    "## A better way\n",
    "A better way of going about this would be to establish the resonant frequency $ω_0$\n",
    "and the damping coefficient $γ$ by fitting the data to the following model:\n",
    "\n",
    "$$\n",
    "X(ω) = \\frac{f}{\\sqrt{\\qty(ω^2_0 - ω^2)^2} + 4γ^2 ω^2}\n",
    "$$\n",
    "<figcaption>Equation 1: Amplitude as a function of angular frequency</figcaption>\n",
    "\n",
    "The quality factor could then be found without resorting to questionable approximations by using the definition of the quality factor:\n",
    "\n",
    "$$\n",
    "Q = \\frac{ω_0}{2γ}\n",
    "$$\n",
    "<figcaption>Equation 2: Definition of quality factor</figcaption>\n",
    "\n",
    "Performing a custom regression analysis is however not a trivial task given the set of tools made available to a first year Natural Sciences student in the UK.\n",
    "\n",
    "## Python to the rescue\n",
    "Luckily Python is an excellent language for all things science and a range of packages give easy access to powerful data analysis tools.\n",
    "\n",
    "In order to perform the custom fit I used the following Python packages:\n",
    "\n",
    "- lmfit\n",
    "- numpy\n",
    "- pandas\n",
    "- sympy\n",
    "- matplotlib\n",
    "- uncertainties\n",
    "\n",
    "## Getting the Excel data into pandas\n",
    "\n",
    "The first challenge is to get the data from the [Excel file](https://github.com/JeppeKlitgaard/E5-mechanical-resonance/blob/master/E5data.xlsx?raw=true) into a `pandas.DataFrame`. This is code rather crudely by using the `pandas.read_excel` function and simply selecting the data for the two different degrees of damping examined.\n",
    "\n",
    "$$\n",
    "a = b\n",
    "$$\n",
    "<figcaption>Equation 1: $a$ is the same as $b$</figcaption>\n"
   ]
  },
  {
   "cell_type": "code",
   "execution_count": null,
   "metadata": {
    "tags": [
     "hide_input"
    ]
   },
   "outputs": [],
   "source": [
    "# Hidden input\n",
    "\n",
    "print(\"Hidden input!\")\n",
    "\n",
    "import matplotlib.pyplot as plt\n",
    "plt.plot([1, 2, 3, 4])\n",
    "plt.ylabel('some numbers')\n",
    "plt.show()"
   ]
  },
  {
   "cell_type": "code",
   "execution_count": null,
   "metadata": {
    "tags": [
     "hide_output"
    ]
   },
   "outputs": [],
   "source": [
    "print(\"Hidden output\")"
   ]
  },
  {
   "cell_type": "code",
   "execution_count": null,
   "metadata": {
    "tags": [
     "hide_cell"
    ]
   },
   "outputs": [],
   "source": [
    "print(\"Hidden cell\")"
   ]
  },
  {
   "cell_type": "markdown",
   "id": "67150319",
   "metadata": {},
   "source": [
    "Figure 2\n",
    "Which outputs the DataFrame shown in Figure 2.\n",
    "\n",
    "Defining a function to fit to\n",
    "Now we need to use lmfit to define a Model to which we can fit the data. This is done by defining a function corresponding to Equation 2.\n",
    "\n",
    "If we try to fit the function to the data straight away we run into problems — we need to provide a reasonable initial guess of the different parameters. This could probably be done by simple intelligent guess-work, but we could also solve 3 equations with 3 unknowns using the sympy package and by defining meaningful bounds for our parameters.\n",
    "\n",
    "Performing the fit\n",
    "We are now ready to perform the fit. We need to do it twice — once for each degree of damping (I_braking = 0.3A and I_braking = 0.6A ). We store the results of our regression analysis in the a dict called results\n",
    "\n",
    "Plotting the data and fit\n",
    "Finally we are ready to plot the data and accompanying fits using matplotlib. This is fairly straight forward for anyone used to matplotlib or MATLAB. By using lmfit we get easy access to the standard errors, which we can find by doing ModelResult.eval_uncertainty(). We can also calculate the R² value from the residuals from the fit.\n",
    "\n",
    "ufloat from the uncertainties package is used to easily propagate the standard errors from the ω₀ and γ estimates onto the quality factor estimate (see Equation 2).\n",
    "\n",
    "The result\n",
    "matplotlib gives us this lovely figure as a reward for our hard work.\n",
    "\n",
    "Figure 3: Data with fit\n",
    "Conclusion\n",
    "Using the method suggested by the Lab Manual I got a quality factor value of Q = 5.6 with standard error of 1.2. By fitting the data to the theoretical model we instead get a value of Q = 5.57 with a standard error of 0.15, from which actual conclusions can be drawn.\n",
    "\n",
    "I am assured University of Cambridge will join the 21st century any day now, but until then we will continue to perform non-linear best-fits by hand and creative imagination.\n",
    "\n",
    "The Jupyter notebook containing the code can be found on my GitHub along with the raw Excel file: https://github.com/dkkline/E5-mechanical-resonance\n",
    "\n",
    "Supposedly this could be done by taking the ratio of the amplitude at resonance and the amplitude for an angular frequency of 0 radians per second. The amplitude at resonance would then have to be guestimated from the graph in Figure 1. That’s hardly very scientific and in my case introduced such large errors that the estimated quality factor was effectively useless with an uncertainty north of 20%.\n",
    "\n",
    "A better way\n",
    "A better way of going about this would be to establish the resonant frequency ω₀ and the damping coefficient γ by fitting the data to the following model:\n",
    "\n",
    "Equation 1: Amplitude as a function of angular frequency\n",
    "The quality factor could then be found without resorting to questionable approximations by using the definition of the quality factor:\n",
    "\n",
    "Equation 2: Definition of quality factor\n",
    "Performing a custom regression analysis is however not a trivial task given the set of tools made available to a first year Natural Sciences student in the UK.\n",
    "\n",
    "Python to the rescue\n",
    "Luckily Python is an excellent language for all things science and a range of packages give easy access to powerful data analysis tools.\n",
    "\n",
    "In order to perform the custom fit I used the following Python packages:\n",
    "\n",
    "lmfit\n",
    "numpy\n",
    "pandas\n",
    "sympy\n",
    "matplotlib\n",
    "uncertainties\n",
    "Getting the Excel data into pandas\n",
    "The first challenge is to get the data from the Excel file into a pandas.DataFrame. This is code rather crudely by using the pandas.read_excel function and simply selecting the data for the two different degrees of damping examined."
   ]
  },
  {
   "cell_type": "markdown",
   "id": "0b706d4f",
   "metadata": {},
   "source": [
    "Figure 2\n",
    "Which outputs the DataFrame shown in Figure 2.\n",
    "\n",
    "Defining a function to fit to\n",
    "Now we need to use lmfit to define a Model to which we can fit the data. This is done by defining a function corresponding to Equation 2.\n",
    "\n",
    "If we try to fit the function to the data straight away we run into problems — we need to provide a reasonable initial guess of the different parameters. This could probably be done by simple intelligent guess-work, but we could also solve 3 equations with 3 unknowns using the sympy package and by defining meaningful bounds for our parameters.\n",
    "\n",
    "Performing the fit\n",
    "We are now ready to perform the fit. We need to do it twice — once for each degree of damping (I_braking = 0.3A and I_braking = 0.6A ). We store the results of our regression analysis in the a dict called results\n",
    "\n",
    "Plotting the data and fit\n",
    "Finally we are ready to plot the data and accompanying fits using matplotlib. This is fairly straight forward for anyone used to matplotlib or MATLAB. By using lmfit we get easy access to the standard errors, which we can find by doing ModelResult.eval_uncertainty(). We can also calculate the R² value from the residuals from the fit.\n",
    "\n",
    "ufloat from the uncertainties package is used to easily propagate the standard errors from the ω₀ and γ estimates onto the quality factor estimate (see Equation 2).\n",
    "\n",
    "The result\n",
    "matplotlib gives us this lovely figure as a reward for our hard work.\n",
    "\n",
    "Figure 3: Data with fit\n",
    "Conclusion\n",
    "Using the method suggested by the Lab Manual I got a quality factor value of Q = 5.6 with standard error of 1.2. By fitting the data to the theoretical model we instead get a value of Q = 5.57 with a standard error of 0.15, from which actual conclusions can be drawn.\n",
    "\n",
    "I am assured University of Cambridge will join the 21st century any day now, but until then we will continue to perform non-linear best-fits by hand and creative imagination.\n",
    "\n",
    "The Jupyter notebook containing the code can be found on my GitHub along with the raw Excel file: https://github.com/dkkline/E5-mechanical-resonance\n",
    "\n",
    "asd ... [link](https://google.com)"
   ]
  }
 ],
 "metadata": {
  "interpreter": {
   "hash": "233cf2676fe61391a4755964026b1c615e6f3a919f659a97e3d49dc5553c9c95"
  },
  "jupytext": {
   "formats": "ipynb,md"
  },
  "kernelspec": {
   "display_name": "Python 3.10.4 ('.venv': poetry)",
   "language": "python",
   "name": "python3"
  },
  "language_info": {
   "codemirror_mode": {
    "name": "ipython",
    "version": 3
   },
   "file_extension": ".py",
   "mimetype": "text/x-python",
   "name": "python",
   "nbconvert_exporter": "python",
   "pygments_lexer": "ipython3",
   "version": "3.10.4"
  }
 },
 "nbformat": 4,
 "nbformat_minor": 2
}
